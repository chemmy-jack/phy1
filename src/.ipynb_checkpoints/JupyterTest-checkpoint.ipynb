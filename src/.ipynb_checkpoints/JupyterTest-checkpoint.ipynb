{
 "cells": [
  {
   "cell_type": "code",
   "execution_count": null,
   "metadata": {},
   "outputs": [
    {
     "data": {
      "text/html": [
       "<div id=\"glowscript\" class=\"glowscript\"></div>"
      ],
      "text/plain": [
       "<IPython.core.display.HTML object>"
      ]
     },
     "metadata": {},
     "output_type": "display_data"
    },
    {
     "data": {
      "application/javascript": [
       "if (typeof Jupyter !== \"undefined\") { window.__context = { glowscript_container: $(\"#glowscript\").removeAttr(\"id\")};}else{ element.textContent = ' ';}"
      ],
      "text/plain": [
       "<IPython.core.display.Javascript object>"
      ]
     },
     "metadata": {},
     "output_type": "display_data"
    },
    {
     "name": "stdout",
     "output_type": "stream",
     "text": [
      "jack function is being imported by importlib._bootstrap\n",
      "/Users/jack/Documents/phyproject_tmux\n",
      " 1 126  0831_3_2\n",
      " 2 257  0831_4_1\n",
      " 3 148  0902_15_5(unit_cm)\n",
      " 4 109  0902_15_9(unit_cm)\n",
      " 5 383  0322 2_25V_uf\n",
      " 6 473  0322 3_20v_uf\n",
      " 7 498  0322 4_20V_df\n",
      " 8 372  0322 5_25V_df(倒放)\n",
      " 9 150  0831_3_10(unit_cm)\n",
      "type number to choose: 1\n",
      "side wing_base       126\n",
      "side wing_tip        126\n",
      "side trailing_edge   126\n",
      "side tail            126\n",
      "top  wing_base       126\n",
      "top  wing_tip        126\n",
      "top  trailing_edge   126\n",
      "top  tail            126\n",
      "126\n",
      "<0, 0, 0>\n"
     ]
    },
    {
     "data": {
      "text/html": [
       "<div id=\"glowscript\" class=\"glowscript\"></div>"
      ],
      "text/plain": [
       "<IPython.core.display.HTML object>"
      ]
     },
     "metadata": {},
     "output_type": "display_data"
    },
    {
     "data": {
      "application/javascript": [
       "if (typeof Jupyter !== \"undefined\") { window.__context = { glowscript_container: $(\"#glowscript\").removeAttr(\"id\")};}else{ element.textContent = ' ';}"
      ],
      "text/plain": [
       "<IPython.core.display.Javascript object>"
      ]
     },
     "metadata": {},
     "output_type": "display_data"
    },
    {
     "data": {
      "application/javascript": [
       "if (typeof Jupyter !== \"undefined\") {require.undef(\"nbextensions/vpython_libraries/glow.min\");}else{element.textContent = ' ';}"
      ],
      "text/plain": [
       "<IPython.core.display.Javascript object>"
      ]
     },
     "metadata": {},
     "output_type": "display_data"
    },
    {
     "data": {
      "application/javascript": [
       "if (typeof Jupyter !== \"undefined\") {require.undef(\"nbextensions/vpython_libraries/glowcomm\");}else{element.textContent = ' ';}"
      ],
      "text/plain": [
       "<IPython.core.display.Javascript object>"
      ]
     },
     "metadata": {},
     "output_type": "display_data"
    },
    {
     "data": {
      "application/javascript": [
       "if (typeof Jupyter !== \"undefined\") {require.undef(\"nbextensions/vpython_libraries/jquery-ui.custom.min\");}else{element.textContent = ' ';}"
      ],
      "text/plain": [
       "<IPython.core.display.Javascript object>"
      ]
     },
     "metadata": {},
     "output_type": "display_data"
    },
    {
     "data": {
      "application/javascript": [
       "if (typeof Jupyter !== \"undefined\") {require([\"nbextensions/vpython_libraries/glow.min\"], function(){console.log(\"GLOW LOADED\");});}else{element.textContent = ' ';}"
      ],
      "text/plain": [
       "<IPython.core.display.Javascript object>"
      ]
     },
     "metadata": {},
     "output_type": "display_data"
    },
    {
     "data": {
      "application/javascript": [
       "if (typeof Jupyter !== \"undefined\") {require([\"nbextensions/vpython_libraries/glowcomm\"], function(){console.log(\"GLOWCOMM LOADED\");});}else{element.textContent = ' ';}"
      ],
      "text/plain": [
       "<IPython.core.display.Javascript object>"
      ]
     },
     "metadata": {},
     "output_type": "display_data"
    },
    {
     "data": {
      "application/javascript": [
       "if (typeof Jupyter !== \"undefined\") {require([\"nbextensions/vpython_libraries/jquery-ui.custom.min\"], function(){console.log(\"JQUERY LOADED\");});}else{element.textContent = ' ';}"
      ],
      "text/plain": [
       "<IPython.core.display.Javascript object>"
      ]
     },
     "metadata": {},
     "output_type": "display_data"
    },
    {
     "name": "stdout",
     "output_type": "stream",
     "text": [
      "<0, 0, 0>\n",
      "<0, 0, 0>\n",
      "True\n",
      "True\n",
      "True\n",
      "True\n",
      "True\n",
      "True\n",
      "True\n",
      "True\n"
     ]
    }
   ],
   "source": [
    "from vpython import *\n",
    "import json as js\n",
    "import jack_functions as func\n",
    "import sys\n",
    "import numpy as np\n",
    "\n",
    "# get data \n",
    "data = func.get_Jsonrawdb()\n",
    "spec_data_name = func.GetSpecKeyByNum(data)\n",
    "spec_data = data[spec_data_name]\n",
    "o_co = func.cal_origin_coordinate(spec_data)\n",
    "\n",
    "# path showing\n",
    "o_wb = o_co[\"wb\"]\n",
    "o_wt = o_co[\"wt\"]\n",
    "o_te = o_co[\"te\"]\n",
    "o_ta = o_co[\"ta\"]\n",
    "\n",
    "scale = abs(o_wb[-1][0]-o_wb[0][0])/100\n",
    "T = len(o_wb)\n",
    "print(T)\n",
    "# cenvec = vector((o_wb[-1][0]+o_wb[0][0])/2,-(o_wb[-1][1]+o_wb[0][1])/2,(o_wb[-1][2]+o_wb[0][2])/2)\n",
    "cenvec = vector(0,0,0)\n",
    "cenarray = np.array([(o_wb[-1][0]+o_wb[0][0])/2,(o_wb[-1][1]+o_wb[0][1])/2,(o_wb[-1][2]+o_wb[0][2])/2])\n",
    "print(cenvec)\n",
    "for x in range(T) :\n",
    "    o_wb[x] = np.subtract(o_wb[x], cenarray)\n",
    "    o_wt[x] = np.subtract(o_wt[x], cenarray)\n",
    "    o_te[x] = np.subtract(o_te[x], cenarray)\n",
    "    o_ta[x] = np.subtract(o_ta[x], cenarray)\n",
    "\n",
    "# setup canvas and axis and center ball\n",
    "scene = canvas(title=\"show path \"+spec_data_name, width = 1400 ,height = 800,center = cenvec, background = color.cyan , userspin = True, opacity = 0.2)\n",
    "xaxis = arrow(canvas = scene, pos = cenvec, axis = vector(1,0,0),shaftwidth = 0.01 ,color=color.blue, opacity = 0.2)\n",
    "yaxis = arrow(canvas = scene, pos = cenvec, axis = vector(0,1,0),shaftwidth = 0.01 ,color=color.green, opacity = 0.2)\n",
    "zaxis = arrow(canvas = scene, pos = cenvec, axis = vector(0,0,1),shaftwidth = 0.01 ,color=color.red, opacity = 0.2)\n",
    "cen = sphere(canvas = scene, pos = cenvec, radius = 0.02, opacity = 0.1)\n",
    "\n",
    "# setup butterfly\n",
    "wbball = sphere(canvas = scene, radius = scale, color = color.black)\n",
    "wb_trail = attach_trail(wbball, type = \"points\", radius = scale/2)\n",
    "wtball = sphere(canvas = scene, radius = scale, color = color.green)\n",
    "# wt_trail = attach_trail(wtball, type = \"points\", radius = scale)\n",
    "teball = sphere(canvas = scene, radius = scale, color = color.red)\n",
    "# te_trail = attach_trail(teball, type = \"points\", radius = scale)\n",
    "taball = sphere(canvas = scene, radius = scale, color = color.black)\n",
    "# ta_trail = attach_trail(taball, type = \"points\", radius = scale)\n",
    "# scene.center=vector((o_wb[-1][0]+o_wb[0][0])/2,(o_wb[-1][1]+o_wb[0][1])/2,(o_wb[-1][2]+o_wb[0][2])/2)\n",
    "\n",
    "wingtri = triangle(\n",
    "    v0 = vertex(pos = wbball.pos),\n",
    "    v1 = vertex(pos = wtball.pos),\n",
    "    v2 = vertex(pos = teball.pos)\n",
    ")\n",
    "print(cenvec)\n",
    "abdomen_cyl = cylinder(radius=scale/2, color = color.yellow)\n",
    "wb_wt_cyl =  cylinder(radius=scale/2, color = color.yellow)\n",
    "wb_te_cyl =  cylinder(radius=scale/2, color = color.yellow)\n",
    "\n",
    "# setup widgits\n",
    "def stop_func() :\n",
    "    global keepon\n",
    "    keepon = False\n",
    "    print(\"stop\")\n",
    "    print(keepon)\n",
    "stop_but = button(bind=stop_func, text=\"stop all\", pos=scene.caption_anchor)\n",
    "print(scene.center)\n",
    "dt = 0.01\n",
    "keepon = True\n",
    "\n",
    "while keepon :\n",
    "    print(keepon)\n",
    "    for i in range(T):\n",
    "        if keepon == False : break\n",
    "        wbball.pos = vector(o_wb[i][0], -o_wb[i][1], o_wb[i][2])\n",
    "        wtball.pos = vector(o_wt[i][0], -o_wt[i][1], o_wt[i][2])\n",
    "        teball.pos = vector(o_te[i][0], -o_te[i][1], o_te[i][2])\n",
    "        taball.pos = vector(o_ta[i][0], -o_ta[i][1], o_ta[i][2])\n",
    "        abdomen_cyl.pos = wbball.pos\n",
    "        abdomen_cyl.axis = taball.pos - wbball.pos\n",
    "        wb_wt_cyl.pos = wbball.pos\n",
    "        wb_wt_cyl.axis = wtball.pos - wbball.pos\n",
    "        wb_te_cyl.pos = wbball.pos\n",
    "        wb_te_cyl.axis = teball.pos - wbball.pos\n",
    "        wingtri.v0 = vertex(pos = wbball.pos)\n",
    "        wingtri.v1 = vertex(pos = wtball.pos)\n",
    "        wingtri.v2 = vertex(pos = teball.pos)\n",
    "        sleep(dt)\n",
    "print(\"finnish\")\n",
    "sys.exit()\n",
    "print(\"finally\")\n",
    "\n"
   ]
  },
  {
   "cell_type": "code",
   "execution_count": 1,
   "metadata": {
    "scrolled": false
   },
   "outputs": [
    {
     "ename": "NameError",
     "evalue": "name 'func' is not defined",
     "output_type": "error",
     "traceback": [
      "\u001b[0;31m---------------------------------------------------------------------------\u001b[0m",
      "\u001b[0;31mNameError\u001b[0m                                 Traceback (most recent call last)",
      "\u001b[0;32m<ipython-input-1-c4a0f33906ae>\u001b[0m in \u001b[0;36m<module>\u001b[0;34m\u001b[0m\n\u001b[1;32m      1\u001b[0m \u001b[0;31m# get data\u001b[0m\u001b[0;34m\u001b[0m\u001b[0;34m\u001b[0m\u001b[0;34m\u001b[0m\u001b[0m\n\u001b[0;32m----> 2\u001b[0;31m \u001b[0mdata\u001b[0m \u001b[0;34m=\u001b[0m \u001b[0mfunc\u001b[0m\u001b[0;34m.\u001b[0m\u001b[0mget_Jsonrawdb\u001b[0m\u001b[0;34m(\u001b[0m\u001b[0;34m)\u001b[0m\u001b[0;34m\u001b[0m\u001b[0;34m\u001b[0m\u001b[0m\n\u001b[0m\u001b[1;32m      3\u001b[0m \u001b[0mspec_data_name\u001b[0m \u001b[0;34m=\u001b[0m \u001b[0mfunc\u001b[0m\u001b[0;34m.\u001b[0m\u001b[0mGetSpecKeyByNum\u001b[0m\u001b[0;34m(\u001b[0m\u001b[0mdata\u001b[0m\u001b[0;34m)\u001b[0m\u001b[0;34m\u001b[0m\u001b[0;34m\u001b[0m\u001b[0m\n\u001b[1;32m      4\u001b[0m \u001b[0mspec_data\u001b[0m \u001b[0;34m=\u001b[0m \u001b[0mdata\u001b[0m\u001b[0;34m[\u001b[0m\u001b[0mspec_data_name\u001b[0m\u001b[0;34m]\u001b[0m\u001b[0;34m\u001b[0m\u001b[0;34m\u001b[0m\u001b[0m\n\u001b[1;32m      5\u001b[0m \u001b[0mo_co\u001b[0m \u001b[0;34m=\u001b[0m \u001b[0mfunc\u001b[0m\u001b[0;34m.\u001b[0m\u001b[0mcal_origin_coordinate\u001b[0m\u001b[0;34m(\u001b[0m\u001b[0mspec_data\u001b[0m\u001b[0;34m)\u001b[0m\u001b[0;34m\u001b[0m\u001b[0;34m\u001b[0m\u001b[0m\n",
      "\u001b[0;31mNameError\u001b[0m: name 'func' is not defined"
     ]
    }
   ],
   "source": []
  },
  {
   "cell_type": "code",
   "execution_count": null,
   "metadata": {},
   "outputs": [],
   "source": []
  },
  {
   "cell_type": "code",
   "execution_count": null,
   "metadata": {},
   "outputs": [],
   "source": []
  }
 ],
 "metadata": {
  "kernelspec": {
   "display_name": "Python 3",
   "language": "python",
   "name": "python3"
  },
  "language_info": {
   "codemirror_mode": {
    "name": "ipython",
    "version": 3
   },
   "file_extension": ".py",
   "mimetype": "text/x-python",
   "name": "python",
   "nbconvert_exporter": "python",
   "pygments_lexer": "ipython3",
   "version": "3.7.7"
  }
 },
 "nbformat": 4,
 "nbformat_minor": 4
}
